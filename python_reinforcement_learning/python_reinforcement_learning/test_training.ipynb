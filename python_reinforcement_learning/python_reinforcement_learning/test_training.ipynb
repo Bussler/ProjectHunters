{
 "cells": [
  {
   "cell_type": "markdown",
   "metadata": {},
   "source": [
    "## Example for environment"
   ]
  },
  {
   "cell_type": "code",
   "execution_count": 1,
   "metadata": {},
   "outputs": [
    {
     "name": "stdout",
     "output_type": "stream",
     "text": [
      "HunterEnvironment initialized\n",
      "{'player': array([0, 0]), 'enemies': array([0, 0])}\n"
     ]
    }
   ],
   "source": [
    "from python_reinforcement_learning.gym_environment.project_hunter_environment import HunterEnvironment\n",
    "\n",
    "env = HunterEnvironment()\n",
    "env.reset()\n",
    "\n",
    "observation, reward, terminated, truncated, info = env.step(0)\n",
    "observation, reward, terminated, truncated, info = env.step(0)\n",
    "observation, reward, terminated, truncated, info = env.step(0)\n",
    "\n",
    "env.close()\n",
    "\n",
    "print(observation)"
   ]
  },
  {
   "cell_type": "code",
   "execution_count": null,
   "metadata": {},
   "outputs": [],
   "source": [
    "import ray\n",
    "from ray.rllib.algorithms.ppo import PPOConfig\n",
    "from python_reinforcement_learning.gym_environment.project_hunter_environment import HunterEnvironment\n",
    "from ray.tune.logger import pretty_print\n",
    "\n",
    "ray.init() # For easier debugging local_mode=True\n",
    "\n",
    "config = (\n",
    "        PPOConfig()\n",
    "        .environment(HunterEnvironment, env_config={\"size\": 100, \"max_timestep\": 1000, \"udp_address\": \"localhost:1337\"})\n",
    "        .framework(\"torch\")\n",
    "        .rollouts(num_rollout_workers=1, num_envs_per_worker=1) # num_envs_per_worker=2 for vectorization\n",
    "        .resources(num_gpus=1)\n",
    "    )\n",
    "\n",
    "stop = {\n",
    "    \"training_iteration\": 1,\n",
    "    \"timesteps_total\": 10, # TODO\n",
    "    \"episode_reward_mean\": 10, # TODO\n",
    "}\n",
    "\n",
    "algo = config.build()\n",
    "\n",
    "for _ in range(stop[\"training_iteration\"]):\n",
    "    result = algo.train()\n",
    "    print(pretty_print(result))\n",
    "    # stop training of the target train steps or reward are reached\n",
    "    if (\n",
    "        result[\"timesteps_total\"] >= stop[\"timesteps_total\"]\n",
    "        or result[\"episode_reward_mean\"] >= stop[\"episode_reward_mean\"]\n",
    "    ):\n",
    "        break\n",
    "    \n",
    "algo.stop()\n",
    "        \n",
    "ray.shutdown()"
   ]
  },
  {
   "cell_type": "code",
   "execution_count": null,
   "metadata": {},
   "outputs": [],
   "source": [
    "from ray.rllib.algorithms.ppo import PPOConfig\n",
    "\n",
    "config = (  # 1. Configure the algorithm,\n",
    "    PPOConfig()\n",
    "    .environment(\"Taxi-v3\")\n",
    "    .rollouts(num_rollout_workers=1)\n",
    "    .framework(\"torch\")\n",
    "    .training(model={\"fcnet_hiddens\": [64, 64]})\n",
    "    .evaluation(evaluation_num_workers=1)\n",
    "    .resources(num_gpus=1)\n",
    ")\n",
    "\n",
    "algo = config.build()  # 2. build the algorithm,\n",
    "\n",
    "for _ in range(1):\n",
    "    print(algo.train())  # 3. train it,\n",
    "\n",
    "algo.evaluate()  # 4. and evaluate it."
   ]
  }
 ],
 "metadata": {
  "kernelspec": {
   "display_name": ".venv",
   "language": "python",
   "name": "python3"
  },
  "language_info": {
   "codemirror_mode": {
    "name": "ipython",
    "version": 3
   },
   "file_extension": ".py",
   "mimetype": "text/x-python",
   "name": "python",
   "nbconvert_exporter": "python",
   "pygments_lexer": "ipython3",
   "version": "3.9.7"
  }
 },
 "nbformat": 4,
 "nbformat_minor": 2
}
