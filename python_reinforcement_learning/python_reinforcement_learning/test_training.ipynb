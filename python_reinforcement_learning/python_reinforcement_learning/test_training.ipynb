{
 "cells": [
  {
   "cell_type": "markdown",
   "metadata": {},
   "source": [
    "## Example for environment"
   ]
  },
  {
   "cell_type": "code",
   "execution_count": 1,
   "metadata": {},
   "outputs": [
    {
     "name": "stdout",
     "output_type": "stream",
     "text": [
      "HunterEnvironment initialized\n",
      "OrderedDict([('agent', array([123, 233, 206])), ('target', array([103, 205,  84]))])\n"
     ]
    }
   ],
   "source": [
    "from python_reinforcement_learning.gym_environment.project_hunter_environment import HunterEnvironment\n",
    "\n",
    "env = HunterEnvironment()\n",
    "test_sample = env.observation_space.sample()\n",
    "\n",
    "print(test_sample)"
   ]
  },
  {
   "cell_type": "code",
   "execution_count": 1,
   "metadata": {},
   "outputs": [
    {
     "name": "stderr",
     "output_type": "stream",
     "text": [
      "2024-03-14 21:53:25,716\tINFO worker.py:1724 -- Started a local Ray instance.\n"
     ]
    },
    {
     "ename": "AttributeError",
     "evalue": "type object 'HunterEnvironment' has no attribute 'framework'",
     "output_type": "error",
     "traceback": [
      "\u001b[1;31m---------------------------------------------------------------------------\u001b[0m",
      "\u001b[1;31mAttributeError\u001b[0m                            Traceback (most recent call last)",
      "Cell \u001b[1;32mIn[1], line 9\u001b[0m\n\u001b[0;32m      4\u001b[0m \u001b[38;5;28;01mfrom\u001b[39;00m \u001b[38;5;21;01mray\u001b[39;00m\u001b[38;5;21;01m.\u001b[39;00m\u001b[38;5;21;01mtune\u001b[39;00m\u001b[38;5;21;01m.\u001b[39;00m\u001b[38;5;21;01mlogger\u001b[39;00m \u001b[38;5;28;01mimport\u001b[39;00m pretty_print\n\u001b[0;32m      6\u001b[0m ray\u001b[38;5;241m.\u001b[39minit(local_mode\u001b[38;5;241m=\u001b[39m\u001b[38;5;28;01mTrue\u001b[39;00m) \u001b[38;5;66;03m# For easier debugging\u001b[39;00m\n\u001b[0;32m      8\u001b[0m config \u001b[38;5;241m=\u001b[39m (\n\u001b[1;32m----> 9\u001b[0m         \u001b[43mPPOConfig\u001b[49m\n\u001b[0;32m     10\u001b[0m \u001b[43m        \u001b[49m\u001b[38;5;241;43m.\u001b[39;49m\u001b[43menvironment\u001b[49m\u001b[43m(\u001b[49m\u001b[43mHunterEnvironment\u001b[49m\u001b[43m)\u001b[49m\n\u001b[0;32m     11\u001b[0m \u001b[43m        \u001b[49m\u001b[38;5;241;43m.\u001b[39;49m\u001b[43mframework\u001b[49m(\u001b[38;5;124m\"\u001b[39m\u001b[38;5;124mtorch\u001b[39m\u001b[38;5;124m\"\u001b[39m)\n\u001b[0;32m     12\u001b[0m         \u001b[38;5;241m.\u001b[39mrollouts(num_rollout_workers\u001b[38;5;241m=\u001b[39m\u001b[38;5;241m1\u001b[39m)\n\u001b[0;32m     13\u001b[0m         \u001b[38;5;66;03m# .resources(num_gpus=1)\u001b[39;00m\n\u001b[0;32m     14\u001b[0m     )\n\u001b[0;32m     16\u001b[0m stop \u001b[38;5;241m=\u001b[39m {\n\u001b[0;32m     17\u001b[0m     \u001b[38;5;124m\"\u001b[39m\u001b[38;5;124mtraining_iteration\u001b[39m\u001b[38;5;124m\"\u001b[39m: \u001b[38;5;241m1\u001b[39m,\n\u001b[0;32m     18\u001b[0m     \u001b[38;5;124m\"\u001b[39m\u001b[38;5;124mtimesteps_total\u001b[39m\u001b[38;5;124m\"\u001b[39m: \u001b[38;5;241m10\u001b[39m, \u001b[38;5;66;03m# TODO\u001b[39;00m\n\u001b[0;32m     19\u001b[0m     \u001b[38;5;124m\"\u001b[39m\u001b[38;5;124mepisode_reward_mean\u001b[39m\u001b[38;5;124m\"\u001b[39m: \u001b[38;5;241m10\u001b[39m, \u001b[38;5;66;03m# TODO\u001b[39;00m\n\u001b[0;32m     20\u001b[0m }\n\u001b[0;32m     22\u001b[0m algo \u001b[38;5;241m=\u001b[39m config\u001b[38;5;241m.\u001b[39mbuild()\n",
      "\u001b[1;31mAttributeError\u001b[0m: type object 'HunterEnvironment' has no attribute 'framework'"
     ]
    }
   ],
   "source": [
    "import ray\n",
    "from ray.rllib.algorithms.ppo import PPOConfig\n",
    "from python_reinforcement_learning.gym_environment.project_hunter_environment import HunterEnvironment\n",
    "from ray.tune.logger import pretty_print\n",
    "\n",
    "ray.init(local_mode=True) # For easier debugging\n",
    "\n",
    "config = (\n",
    "        PPOConfig\n",
    "        .environment(HunterEnvironment)\n",
    "        .framework(\"torch\")\n",
    "        .rollouts(num_rollout_workers=1)\n",
    "        # .resources(num_gpus=1)\n",
    "    )\n",
    "\n",
    "stop = {\n",
    "    \"training_iteration\": 1,\n",
    "    \"timesteps_total\": 10, # TODO\n",
    "    \"episode_reward_mean\": 10, # TODO\n",
    "}\n",
    "\n",
    "algo = config.build()\n",
    "\n",
    "for _ in range(stop[\"training_iteration\"]):\n",
    "    result = algo.train()\n",
    "    print(pretty_print(result))\n",
    "    # stop training of the target train steps or reward are reached\n",
    "    if (\n",
    "        result[\"timesteps_total\"] >= stop[\"timesteps_total\"]\n",
    "        or result[\"episode_reward_mean\"] >= stop[\"episode_reward_mean\"]\n",
    "    ):\n",
    "        break\n",
    "    \n",
    "algo.stop()\n",
    "        \n",
    "ray.shutdown()"
   ]
  },
  {
   "cell_type": "code",
   "execution_count": 2,
   "metadata": {},
   "outputs": [
    {
     "name": "stderr",
     "output_type": "stream",
     "text": [
      "2024-03-14 21:41:52,862\tWARNING algorithm_config.py:847 -- You have specified 1 evaluation workers, but your `evaluation_interval` is None! Therefore, evaluation will not occur automatically with each call to `Algorithm.train()`. Instead, you will have to call `Algorithm.evaluate()` manually in order to trigger an evaluation run.\n",
      "2024-03-14 21:41:56,899\tWARNING algorithm_config.py:847 -- You have specified 1 evaluation workers, but your `evaluation_interval` is None! Therefore, evaluation will not occur automatically with each call to `Algorithm.train()`. Instead, you will have to call `Algorithm.evaluate()` manually in order to trigger an evaluation run.\n",
      "2024-03-14 21:42:00,426\tWARNING util.py:62 -- Install gputil for GPU system monitoring.\n",
      "2024-03-14 21:42:04,156\tWARNING deprecation.py:50 -- DeprecationWarning: `ray.rllib.execution.train_ops.multi_gpu_train_one_step` has been deprecated. This will raise an error in the future!\n"
     ]
    },
    {
     "name": "stdout",
     "output_type": "stream",
     "text": [
      "{'custom_metrics': {}, 'episode_media': {}, 'info': {'learner': {'default_policy': {'learner_stats': {'allreduce_latency': 0.0, 'grad_gnorm': 0.10192798931472083, 'cur_kl_coeff': 0.20000000000000004, 'cur_lr': 5.0000000000000016e-05, 'total_loss': 9.960112797316684, 'policy_loss': 0.008885733535393112, 'vf_loss': 9.951007453344202, 'vf_explained_var': -3.7427230547833184e-05, 'kl': 0.0010982094649228606, 'entropy': 1.7906645712032112, 'entropy_coeff': 0.0}, 'model': {}, 'custom_metrics': {}, 'num_agent_steps_trained': 128.0, 'num_grad_updates_lifetime': 465.5, 'diff_num_grad_updates_vs_sampler_policy': 464.5}}, 'num_env_steps_sampled': 4000, 'num_env_steps_trained': 4000, 'num_agent_steps_sampled': 4000, 'num_agent_steps_trained': 4000}, 'sampler_results': {'episode_reward_max': -659.0, 'episode_reward_min': -938.0, 'episode_reward_mean': -776.45, 'episode_len_mean': 200.0, 'episode_media': {}, 'episodes_this_iter': 20, 'policy_reward_min': {}, 'policy_reward_max': {}, 'policy_reward_mean': {}, 'custom_metrics': {}, 'hist_stats': {'episode_reward': [-821.0, -758.0, -731.0, -758.0, -740.0, -695.0, -848.0, -830.0, -731.0, -776.0, -938.0, -857.0, -776.0, -785.0, -659.0, -740.0, -767.0, -857.0, -731.0, -731.0], 'episode_lengths': [200, 200, 200, 200, 200, 200, 200, 200, 200, 200, 200, 200, 200, 200, 200, 200, 200, 200, 200, 200]}, 'sampler_perf': {'mean_raw_obs_processing_ms': 0.19504671780892052, 'mean_inference_ms': 0.5860872132812135, 'mean_action_processing_ms': 0.07274513749949964, 'mean_env_wait_ms': 0.03702549361133837, 'mean_env_render_ms': 0.0}, 'num_faulty_episodes': 0, 'connector_metrics': {'ObsPreprocessorConnector_ms': 0.012503862380981445, 'StateBufferConnector_ms': 0.0025022029876708984, 'ViewRequirementAgentConnector_ms': 0.054830312728881836}}, 'episode_reward_max': -659.0, 'episode_reward_min': -938.0, 'episode_reward_mean': -776.45, 'episode_len_mean': 200.0, 'episodes_this_iter': 20, 'policy_reward_min': {}, 'policy_reward_max': {}, 'policy_reward_mean': {}, 'hist_stats': {'episode_reward': [-821.0, -758.0, -731.0, -758.0, -740.0, -695.0, -848.0, -830.0, -731.0, -776.0, -938.0, -857.0, -776.0, -785.0, -659.0, -740.0, -767.0, -857.0, -731.0, -731.0], 'episode_lengths': [200, 200, 200, 200, 200, 200, 200, 200, 200, 200, 200, 200, 200, 200, 200, 200, 200, 200, 200, 200]}, 'sampler_perf': {'mean_raw_obs_processing_ms': 0.19504671780892052, 'mean_inference_ms': 0.5860872132812135, 'mean_action_processing_ms': 0.07274513749949964, 'mean_env_wait_ms': 0.03702549361133837, 'mean_env_render_ms': 0.0}, 'num_faulty_episodes': 0, 'connector_metrics': {'ObsPreprocessorConnector_ms': 0.012503862380981445, 'StateBufferConnector_ms': 0.0025022029876708984, 'ViewRequirementAgentConnector_ms': 0.054830312728881836}, 'num_healthy_workers': 1, 'num_in_flight_async_reqs': 0, 'num_remote_worker_restarts': 0, 'num_agent_steps_sampled': 4000, 'num_agent_steps_trained': 4000, 'num_env_steps_sampled': 4000, 'num_env_steps_trained': 4000, 'num_env_steps_sampled_this_iter': 4000, 'num_env_steps_trained_this_iter': 4000, 'num_env_steps_sampled_throughput_per_sec': 503.7147471019436, 'num_env_steps_trained_throughput_per_sec': 503.7147471019436, 'timesteps_total': 4000, 'num_steps_trained_this_iter': 4000, 'agent_timesteps_total': 4000, 'timers': {'training_iteration_time_ms': 7941.002, 'sample_time_ms': 3723.501, 'load_time_ms': 1.5, 'load_throughput': 2667283.943, 'learn_time_ms': 4212.999, 'learn_throughput': 949.442, 'synch_weights_time_ms': 1.501}, 'counters': {'num_env_steps_sampled': 4000, 'num_env_steps_trained': 4000, 'num_agent_steps_sampled': 4000, 'num_agent_steps_trained': 4000}, 'done': False, 'episodes_total': 20, 'training_iteration': 1, 'trial_id': 'default', 'date': '2024-03-14_21-42-08', 'timestamp': 1710448928, 'time_this_iter_s': 7.944501161575317, 'time_total_s': 7.944501161575317, 'pid': 16216, 'hostname': 'DESKTOP-8BVGT3G', 'node_ip': '127.0.0.1', 'config': {'extra_python_environs_for_driver': {}, 'extra_python_environs_for_worker': {}, 'num_gpus': 0, 'num_cpus_per_worker': 1, 'num_gpus_per_worker': 0, '_fake_gpus': False, 'num_learner_workers': 0, 'num_gpus_per_learner_worker': 0, 'num_cpus_per_learner_worker': 1, 'local_gpu_idx': 0, 'custom_resources_per_worker': {}, 'placement_strategy': 'PACK', 'eager_tracing': True, 'eager_max_retraces': 20, 'tf_session_args': {'intra_op_parallelism_threads': 2, 'inter_op_parallelism_threads': 2, 'gpu_options': {'allow_growth': True}, 'log_device_placement': False, 'device_count': {'CPU': 1}, 'allow_soft_placement': True}, 'local_tf_session_args': {'intra_op_parallelism_threads': 8, 'inter_op_parallelism_threads': 8}, 'torch_compile_learner': False, 'torch_compile_learner_what_to_compile': <TorchCompileWhatToCompile.FORWARD_TRAIN: 'forward_train'>, 'torch_compile_learner_dynamo_backend': 'inductor', 'torch_compile_learner_dynamo_mode': None, 'torch_compile_worker': False, 'torch_compile_worker_dynamo_backend': 'onnxrt', 'torch_compile_worker_dynamo_mode': None, 'env': 'Taxi-v3', 'env_config': {}, 'observation_space': None, 'action_space': None, 'env_task_fn': None, 'render_env': False, 'clip_rewards': None, 'normalize_actions': True, 'clip_actions': False, 'disable_env_checking': False, 'auto_wrap_old_gym_envs': True, 'action_mask_key': 'action_mask', '_is_atari': None, 'env_runner_cls': None, 'num_envs_per_worker': 1, 'enable_connectors': True, 'rollout_fragment_length': 'auto', 'batch_mode': 'truncate_episodes', 'validate_workers_after_construction': True, 'compress_observations': False, 'sampler_perf_stats_ema_coef': None, 'sample_async': -1, 'remote_worker_envs': False, 'remote_env_batch_wait_ms': 0, 'enable_tf1_exec_eagerly': False, 'sample_collector': <class 'ray.rllib.evaluation.collectors.simple_list_collector.SimpleListCollector'>, 'preprocessor_pref': 'deepmind', 'observation_filter': 'NoFilter', 'update_worker_filter_stats': True, 'use_worker_filter_stats': True, 'gamma': 0.99, 'lr': 5e-05, 'grad_clip': None, 'grad_clip_by': 'global_norm', 'train_batch_size': 4000, 'model': {'_disable_preprocessor_api': False, '_disable_action_flattening': False, 'fcnet_hiddens': [64, 64], 'fcnet_activation': 'tanh', 'conv_filters': None, 'conv_activation': 'relu', 'post_fcnet_hiddens': [], 'post_fcnet_activation': 'relu', 'free_log_std': False, 'no_final_linear': False, 'vf_share_layers': False, 'use_lstm': False, 'max_seq_len': 20, 'lstm_cell_size': 256, 'lstm_use_prev_action': False, 'lstm_use_prev_reward': False, '_time_major': False, 'use_attention': False, 'attention_num_transformer_units': 1, 'attention_dim': 64, 'attention_num_heads': 1, 'attention_head_dim': 32, 'attention_memory_inference': 50, 'attention_memory_training': 50, 'attention_position_wise_mlp_dim': 32, 'attention_init_gru_gate_bias': 2.0, 'attention_use_n_prev_actions': 0, 'attention_use_n_prev_rewards': 0, 'framestack': True, 'dim': 84, 'grayscale': False, 'zero_mean': True, 'custom_model': None, 'custom_model_config': {}, 'custom_action_dist': None, 'custom_preprocessor': None, 'encoder_latent_dim': None, 'always_check_shapes': False, 'lstm_use_prev_action_reward': -1, '_use_default_native_models': -1}, 'optimizer': {}, 'max_requests_in_flight_per_sampler_worker': 2, '_learner_class': None, 'explore': True, 'exploration_config': {'type': 'StochasticSampling'}, 'algorithm_config_overrides_per_module': {}, 'policy_map_capacity': 100, 'policy_mapping_fn': <function AlgorithmConfig.DEFAULT_POLICY_MAPPING_FN at 0x00000278D991AF70>, 'policies_to_train': None, 'policy_states_are_swappable': False, 'observation_fn': None, 'count_steps_by': 'env_steps', 'input_config': {}, 'actions_in_input_normalized': False, 'postprocess_inputs': False, 'shuffle_buffer_size': 0, 'output': None, 'output_config': {}, 'output_compress_columns': ['obs', 'new_obs'], 'output_max_file_size': 67108864, 'offline_sampling': False, 'evaluation_interval': None, 'evaluation_duration': 10, 'evaluation_duration_unit': 'episodes', 'evaluation_sample_timeout_s': 180.0, 'evaluation_parallel_to_training': False, 'evaluation_config': None, 'off_policy_estimation_methods': {}, 'ope_split_batch_by_episode': True, 'evaluation_num_workers': 1, 'always_attach_evaluation_results': False, 'enable_async_evaluation': False, 'in_evaluation': False, 'sync_filters_on_rollout_workers_timeout_s': 60.0, 'keep_per_episode_custom_metrics': False, 'metrics_episode_collection_timeout_s': 60.0, 'metrics_num_episodes_for_smoothing': 100, 'min_time_s_per_iteration': None, 'min_train_timesteps_per_iteration': 0, 'min_sample_timesteps_per_iteration': 0, 'export_native_model_files': False, 'checkpoint_trainable_policies_only': False, 'logger_creator': None, 'logger_config': None, 'log_level': 'WARN', 'log_sys_usage': True, 'fake_sampler': False, 'seed': None, 'ignore_worker_failures': False, 'recreate_failed_workers': False, 'max_num_worker_restarts': 1000, 'delay_between_worker_restarts_s': 60.0, 'restart_failed_sub_environments': False, 'num_consecutive_worker_failures_tolerance': 100, 'worker_health_probe_timeout_s': 60, 'worker_restore_timeout_s': 1800, '_rl_module_spec': None, '_AlgorithmConfig__prior_exploration_config': None, '_enable_new_api_stack': False, '_tf_policy_handles_more_than_one_loss': False, '_disable_preprocessor_api': False, '_disable_action_flattening': False, '_disable_execution_plan_api': True, '_disable_initialize_loss_from_dummy_batch': False, 'simple_optimizer': False, 'policy_map_cache': -1, 'worker_cls': -1, 'synchronize_filters': -1, 'replay_sequence_length': None, 'lr_schedule': None, 'use_critic': True, 'use_gae': True, 'use_kl_loss': True, 'kl_coeff': 0.2, 'kl_target': 0.01, 'sgd_minibatch_size': 128, 'num_sgd_iter': 30, 'shuffle_sequences': True, 'vf_loss_coeff': 1.0, 'entropy_coeff': 0.0, 'entropy_coeff_schedule': None, 'clip_param': 0.3, 'vf_clip_param': 10.0, 'vf_share_layers': -1, 'lambda': 1.0, 'input': 'sampler', 'policies': {'default_policy': (None, None, None, None)}, 'callbacks': <class 'ray.rllib.algorithms.callbacks.DefaultCallbacks'>, 'create_env_on_driver': False, 'custom_eval_function': None, 'framework': 'torch', 'num_cpus_for_driver': 1, 'num_workers': 1}, 'time_since_restore': 7.944501161575317, 'iterations_since_restore': 1, 'perf': {'cpu_util_percent': 33.325, 'ram_util_percent': 56.50000000000001}}\n"
     ]
    },
    {
     "data": {
      "text/plain": [
       "{'evaluation': {'sampler_results': {'episode_reward_max': -668.0,\n",
       "   'episode_reward_min': -803.0,\n",
       "   'episode_reward_mean': -729.2,\n",
       "   'episode_len_mean': 200.0,\n",
       "   'episode_media': {},\n",
       "   'episodes_this_iter': 10,\n",
       "   'policy_reward_min': {},\n",
       "   'policy_reward_max': {},\n",
       "   'policy_reward_mean': {},\n",
       "   'custom_metrics': {},\n",
       "   'hist_stats': {'episode_reward': [-668.0,\n",
       "     -713.0,\n",
       "     -803.0,\n",
       "     -794.0,\n",
       "     -695.0,\n",
       "     -704.0,\n",
       "     -776.0,\n",
       "     -758.0,\n",
       "     -704.0,\n",
       "     -677.0],\n",
       "    'episode_lengths': [200, 200, 200, 200, 200, 200, 200, 200, 200, 200]},\n",
       "   'sampler_perf': {'mean_raw_obs_processing_ms': 0.17985256238915454,\n",
       "    'mean_inference_ms': 0.600572111367107,\n",
       "    'mean_action_processing_ms': 0.07395622791021482,\n",
       "    'mean_env_wait_ms': 0.03668190776437953,\n",
       "    'mean_env_render_ms': 0.0},\n",
       "   'num_faulty_episodes': 0,\n",
       "   'connector_metrics': {'ObsPreprocessorConnector_ms': 0.019996166229248047,\n",
       "    'StateBufferConnector_ms': 0.005023479461669922,\n",
       "    'ViewRequirementAgentConnector_ms': 0.07999181747436523}},\n",
       "  'episode_reward_max': -668.0,\n",
       "  'episode_reward_min': -803.0,\n",
       "  'episode_reward_mean': -729.2,\n",
       "  'episode_len_mean': 200.0,\n",
       "  'episode_media': {},\n",
       "  'episodes_this_iter': 10,\n",
       "  'policy_reward_min': {},\n",
       "  'policy_reward_max': {},\n",
       "  'policy_reward_mean': {},\n",
       "  'custom_metrics': {},\n",
       "  'hist_stats': {'episode_reward': [-668.0,\n",
       "    -713.0,\n",
       "    -803.0,\n",
       "    -794.0,\n",
       "    -695.0,\n",
       "    -704.0,\n",
       "    -776.0,\n",
       "    -758.0,\n",
       "    -704.0,\n",
       "    -677.0],\n",
       "   'episode_lengths': [200, 200, 200, 200, 200, 200, 200, 200, 200, 200]},\n",
       "  'sampler_perf': {'mean_raw_obs_processing_ms': 0.17985256238915454,\n",
       "   'mean_inference_ms': 0.600572111367107,\n",
       "   'mean_action_processing_ms': 0.07395622791021482,\n",
       "   'mean_env_wait_ms': 0.03668190776437953,\n",
       "   'mean_env_render_ms': 0.0},\n",
       "  'num_faulty_episodes': 0,\n",
       "  'connector_metrics': {'ObsPreprocessorConnector_ms': 0.019996166229248047,\n",
       "   'StateBufferConnector_ms': 0.005023479461669922,\n",
       "   'ViewRequirementAgentConnector_ms': 0.07999181747436523},\n",
       "  'num_agent_steps_sampled_this_iter': 2000,\n",
       "  'num_env_steps_sampled_this_iter': 2000,\n",
       "  'timesteps_this_iter': 2000}}"
      ]
     },
     "execution_count": 2,
     "metadata": {},
     "output_type": "execute_result"
    }
   ],
   "source": [
    "from ray.rllib.algorithms.ppo import PPOConfig\n",
    "\n",
    "config = (  # 1. Configure the algorithm,\n",
    "    PPOConfig()\n",
    "    .environment(\"Taxi-v3\")\n",
    "    .rollouts(num_rollout_workers=1)\n",
    "    .framework(\"torch\")\n",
    "    .training(model={\"fcnet_hiddens\": [64, 64]})\n",
    "    .evaluation(evaluation_num_workers=1)\n",
    "    # .resources(num_gpus=1)\n",
    ")\n",
    "\n",
    "algo = config.build()  # 2. build the algorithm,\n",
    "\n",
    "for _ in range(1):\n",
    "    print(algo.train())  # 3. train it,\n",
    "\n",
    "algo.evaluate()  # 4. and evaluate it."
   ]
  }
 ],
 "metadata": {
  "kernelspec": {
   "display_name": ".venv",
   "language": "python",
   "name": "python3"
  },
  "language_info": {
   "codemirror_mode": {
    "name": "ipython",
    "version": 3
   },
   "file_extension": ".py",
   "mimetype": "text/x-python",
   "name": "python",
   "nbconvert_exporter": "python",
   "pygments_lexer": "ipython3",
   "version": "3.9.7"
  }
 },
 "nbformat": 4,
 "nbformat_minor": 2
}
